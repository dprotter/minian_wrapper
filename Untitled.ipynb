{
 "cells": [
  {
   "cell_type": "code",
   "execution_count": 4,
   "metadata": {},
   "outputs": [],
   "source": [
    "import pandas as pd\n",
    "import numpy as np\n",
    "import matplotlib.pyplot as plt\n",
    "\n",
    "\n",
    "path = '/home/dprotter/Downloads/testing_fiji/quick_results_output.csv'\n",
    "\n",
    "df = pd.read_csv(path)"
   ]
  },
  {
   "cell_type": "code",
   "execution_count": 5,
   "id": "3c021c69",
   "metadata": {},
   "outputs": [
    {
     "data": {
      "text/html": [
       "<div>\n",
       "<style scoped>\n",
       "    .dataframe tbody tr th:only-of-type {\n",
       "        vertical-align: middle;\n",
       "    }\n",
       "\n",
       "    .dataframe tbody tr th {\n",
       "        vertical-align: top;\n",
       "    }\n",
       "\n",
       "    .dataframe thead th {\n",
       "        text-align: right;\n",
       "    }\n",
       "</style>\n",
       "<table border=\"1\" class=\"dataframe\">\n",
       "  <thead>\n",
       "    <tr style=\"text-align: right;\">\n",
       "      <th></th>\n",
       "      <th>ROI</th>\n",
       "      <th>area</th>\n",
       "      <th>mean</th>\n",
       "      <th>min</th>\n",
       "      <th>max</th>\n",
       "    </tr>\n",
       "  </thead>\n",
       "  <tbody>\n",
       "    <tr>\n",
       "      <th>0</th>\n",
       "      <td>1</td>\n",
       "      <td>47.695</td>\n",
       "      <td>71.617</td>\n",
       "      <td>58</td>\n",
       "      <td>130</td>\n",
       "    </tr>\n",
       "    <tr>\n",
       "      <th>1</th>\n",
       "      <td>2</td>\n",
       "      <td>63.255</td>\n",
       "      <td>995.545</td>\n",
       "      <td>438</td>\n",
       "      <td>2683</td>\n",
       "    </tr>\n",
       "    <tr>\n",
       "      <th>2</th>\n",
       "      <td>3</td>\n",
       "      <td>69.682</td>\n",
       "      <td>68.194</td>\n",
       "      <td>55</td>\n",
       "      <td>107</td>\n",
       "    </tr>\n",
       "    <tr>\n",
       "      <th>3</th>\n",
       "      <td>4</td>\n",
       "      <td>42.959</td>\n",
       "      <td>643.827</td>\n",
       "      <td>215</td>\n",
       "      <td>1949</td>\n",
       "    </tr>\n",
       "    <tr>\n",
       "      <th>4</th>\n",
       "      <td>5</td>\n",
       "      <td>66.300</td>\n",
       "      <td>82.423</td>\n",
       "      <td>60</td>\n",
       "      <td>191</td>\n",
       "    </tr>\n",
       "  </tbody>\n",
       "</table>\n",
       "</div>"
      ],
      "text/plain": [
       "   ROI    area     mean  min   max\n",
       "0    1  47.695   71.617   58   130\n",
       "1    2  63.255  995.545  438  2683\n",
       "2    3  69.682   68.194   55   107\n",
       "3    4  42.959  643.827  215  1949\n",
       "4    5  66.300   82.423   60   191"
      ]
     },
     "execution_count": 5,
     "metadata": {},
     "output_type": "execute_result"
    }
   ],
   "source": [
    "df.head()"
   ]
  },
  {
   "cell_type": "code",
   "execution_count": 8,
   "id": "d8b5f84b",
   "metadata": {},
   "outputs": [
    {
     "data": {
      "text/plain": [
       "(array([77.,  6.,  6.,  5.,  3., 16.,  9.,  1.,  1.,  1.]),\n",
       " array([  60.684,  195.99 ,  331.296,  466.602,  601.908,  737.214,\n",
       "         872.52 , 1007.826, 1143.132, 1278.438, 1413.744]),\n",
       " <a list of 10 Patch objects>)"
      ]
     },
     "execution_count": 8,
     "metadata": {},
     "output_type": "execute_result"
    },
    {
     "data": {
      "image/png": "[encoded data removed]",
      "text/plain": [
       "<Figure size 432x288 with 1 Axes>"
      ]
     },
     "metadata": {
      "needs_background": "light"
     },
     "output_type": "display_data"
    }
   ],
   "source": [
    "plt.hist(df['mean'])"
   ]
  },
  {
   "cell_type": "code",
   "execution_count": 10,
   "id": "b3be2e7b",
   "metadata": {},
   "outputs": [
    {
     "data": {
      "text/plain": [
       "(array([58., 12., 13.,  5.,  8., 11.,  5.,  7.,  5.,  1.]),\n",
       " array([  82. ,  456.8,  831.6, 1206.4, 1581.2, 1956. , 2330.8, 2705.6,\n",
       "        3080.4, 3455.2, 3830. ]),\n",
       " <a list of 10 Patch objects>)"
      ]
     },
     "execution_count": 10,
     "metadata": {},
     "output_type": "execute_result"
    },
    {
     "data": {
      "image/png": "[encoded data removed]",
      "text/plain": [
       "<Figure size 432x288 with 1 Axes>"
      ]
     },
     "metadata": {
      "needs_background": "light"
     },
     "output_type": "display_data"
    }
   ],
   "source": [
    "plt.hist(df['max'])"
   ]
  },
  {
   "cell_type": "code",
   "execution_count": 11,
   "id": "04808bc5",
   "metadata": {},
   "outputs": [
    {
     "data": {
      "text/plain": [
       "(array([87.,  5., 11.,  8.,  6.,  3.,  2.,  2.,  0.,  1.]),\n",
       " array([ 51. ,  89.7, 128.4, 167.1, 205.8, 244.5, 283.2, 321.9, 360.6,\n",
       "        399.3, 438. ]),\n",
       " <a list of 10 Patch objects>)"
      ]
     },
     "execution_count": 11,
     "metadata": {},
     "output_type": "execute_result"
    },
    {
     "data": {
      "image/png": "[encoded data removed]",
      "text/plain": [
       "<Figure size 432x288 with 1 Axes>"
      ]
     },
     "metadata": {
      "needs_background": "light"
     },
     "output_type": "display_data"
    }
   ],
   "source": [
    "plt.hist(df['min'])"
   ]
  },
  {
   "cell_type": "code",
   "execution_count": 15,
   "id": "157137b9",
   "metadata": {},
   "outputs": [],
   "source": [
    "df = df.sort_values('mean')"
   ]
  },
  {
   "cell_type": "code",
   "execution_count": 19,
   "id": "e3c7a7ff",
   "metadata": {},
   "outputs": [
    {
     "data": {
      "text/plain": [
       "[<matplotlib.lines.Line2D at 0x7f13b44c4790>]"
      ]
     },
     "execution_count": 19,
     "metadata": {},
     "output_type": "execute_result"
    },
    {
     "data": {
      "image/png": "[encoded data removed]",
      "text/plain": [
       "<Figure size 432x288 with 1 Axes>"
      ]
     },
     "metadata": {
      "needs_background": "light"
     },
     "output_type": "display_data"
    }
   ],
   "source": [
    "plt.plot(df['mean'].values)"
   ]
  },
  {
   "cell_type": "code",
   "execution_count": 17,
   "id": "d67dd4d9",
   "metadata": {},
   "outputs": [
    {
     "data": {
      "text/plain": [
       "25      60.684\n",
       "56      63.866\n",
       "28      64.503\n",
       "45      64.895\n",
       "43      65.714\n",
       "        ...   \n",
       "57     984.744\n",
       "1      995.545\n",
       "82    1015.907\n",
       "27    1176.495\n",
       "61    1413.744\n",
       "Name: mean, Length: 125, dtype: float64"
      ]
     },
     "execution_count": 17,
     "metadata": {},
     "output_type": "execute_result"
    }
   ],
   "source": []
  }
 ],
 "metadata": {
  "kernelspec": {
   "display_name": "computing",
   "language": "python",
   "name": "python3"
  },
  "language_info": {
   "codemirror_mode": {
    "name": "ipython",
    "version": 3
   },
   "file_extension": ".py",
   "mimetype": "text/x-python",
   "name": "python",
   "nbconvert_exporter": "python",
   "pygments_lexer": "ipython3",
   "version": "3.8.3"
  }
 },
 "nbformat": 4,
 "nbformat_minor": 5
}
